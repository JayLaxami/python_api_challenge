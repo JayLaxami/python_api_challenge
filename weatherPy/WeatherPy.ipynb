{
 "cells": [
  {
   "cell_type": "markdown",
   "metadata": {},
   "source": [
    "# WeatherPy\n",
    "\n",
    "---\n",
    "\n",
    "## Starter Code to Generate Random Geographic Coordinates and a List of Cities"
   ]
  },
  {
   "cell_type": "code",
   "execution_count": 16,
   "metadata": {
    "scrolled": true
   },
   "outputs": [],
   "source": [
    "# Dependencies and Setup\n",
    "import matplotlib.pyplot as plt\n",
    "import pandas as pd\n",
    "import numpy as np\n",
    "import requests\n",
    "import json\n",
    "import time\n",
    "from scipy.stats import linregress\n",
    "# from pprint import pprint\n",
    "# api_keys = file\n",
    "# url = \"https://openweathermap.org\"\n",
    "# query = \"hello\"\n",
    "# Impor the OpenWeatherMap API key\n",
    "from api_keys import weather_api_keys\n",
    "# from api_keys.py import weather_api_keys\n",
    "# main_url = \"http://api.openweathermap.org/geo/1.0/reverse?lat=51.5098&lon=-0.1180&limit=5&appid={API key}\"\n",
    "\n",
    "# f\"{url}api-key={api_keys}&q={query}&begin_date={begin_date}&end_date={end_date}\"\n",
    "# Import citipy to determine the cities based on latitude and longitude\n",
    "from citipy import citipy\n",
    "# main2_url = \"http://api.openweathermap.org/geo/1.0/direct?q=London&limit=5&appid={API key}\"\n"
   ]
  },
  {
   "cell_type": "markdown",
   "metadata": {},
   "source": [
    "### Generate the Cities List by Using the `citipy` Library"
   ]
  },
  {
   "cell_type": "code",
   "execution_count": 134,
   "metadata": {},
   "outputs": [
    {
     "name": "stdout",
     "output_type": "stream",
     "text": [
      "Number of cities in the list: 623\n"
     ]
    }
   ],
   "source": [
    "# Empty list for holding the latitude and longitude combinations\n",
    "lat_lngs = []\n",
    "\n",
    "# Empty list for holding the cities names\n",
    "cities = []\n",
    "\n",
    "# Range of latitudes and longitudes\n",
    "lat_range = (-90, 90)\n",
    "lng_range = (-180, 180)\n",
    "\n",
    "# Create a set of random lat and lng combinations\n",
    "lats = np.random.uniform(lat_range[0], lat_range[1], size=1500)\n",
    "lngs = np.random.uniform(lng_range[0], lng_range[1], size=1500)\n",
    "lat_lngs = zip(lats, lngs)\n",
    "\n",
    "# Identify nearest city for each lat, lng combination\n",
    "for lat_lng in lat_lngs:\n",
    "    city = citipy.nearest_city(lat_lng[0], lat_lng[1]).city_name\n",
    "    \n",
    "    # If the city is unique, then add it to a our cities list\n",
    "    if city not in cities:\n",
    "        cities.append(city)\n",
    "\n",
    "# Print the city count to confirm sufficient count\n",
    "print(f\"Number of cities in the list: {len(cities)}\")"
   ]
  },
  {
   "cell_type": "code",
   "execution_count": 18,
   "metadata": {},
   "outputs": [
    {
     "name": "stdout",
     "output_type": "stream",
     "text": [
      "https://api.openweathermap.org/data/2.5/weather?lat={lat_range}&lon={lng_range}&appid={weather_api_keys}\n"
     ]
    }
   ],
   "source": [
    "url= \"https://api.openweathermap.org/data/2.5/weather?lat={lat_range}&lon={lng_range}&appid={weather_api_keys}\"\n",
    "print(url)\n",
    "# cities = requests.get(url).json()\n",
    "# # articles_list = articles[\"response\"][\"docs\"]\n",
    "# cities\n",
    "\n"
   ]
  },
  {
   "cell_type": "markdown",
   "metadata": {},
   "source": [
    "---"
   ]
  },
  {
   "cell_type": "markdown",
   "metadata": {},
   "source": [
    "## Requirement 1: Create Plots to Showcase the Relationship Between Weather Variables and Latitude\n",
    "\n",
    "### Use the OpenWeatherMap API to retrieve weather data from the cities list generated in the started code"
   ]
  },
  {
   "cell_type": "code",
   "execution_count": 135,
   "metadata": {},
   "outputs": [
    {
     "name": "stdout",
     "output_type": "stream",
     "text": [
      "Beginning Data Retrieval     \n",
      "-----------------------------\n",
      "Processing Record 1 of Set 1 | kemijarvi\n",
      "City not found. Skipping...\n",
      "Processing Record 2 of Set 1 | hualmay\n",
      "City not found. Skipping...\n",
      "Processing Record 3 of Set 1 | lyaskelya\n",
      "City not found. Skipping...\n",
      "Processing Record 4 of Set 1 | vaini\n",
      "City not found. Skipping...\n",
      "Processing Record 5 of Set 1 | bandarbeyla\n",
      "City not found. Skipping...\n",
      "Processing Record 6 of Set 1 | kuzino\n",
      "City not found. Skipping...\n",
      "Processing Record 7 of Set 1 | faanui\n",
      "City not found. Skipping...\n",
      "Processing Record 8 of Set 1 | san cristobal\n",
      "City not found. Skipping...\n",
      "Processing Record 9 of Set 1 | jinka\n",
      "City not found. Skipping...\n",
      "Processing Record 10 of Set 1 | winsum\n",
      "City not found. Skipping...\n",
      "Processing Record 11 of Set 1 | qaanaaq\n",
      "City not found. Skipping...\n",
      "Processing Record 12 of Set 1 | kysyl-syr\n",
      "City not found. Skipping...\n",
      "Processing Record 13 of Set 1 | yulara\n",
      "City not found. Skipping...\n",
      "Processing Record 14 of Set 1 | rikitea\n",
      "City not found. Skipping...\n",
      "Processing Record 15 of Set 1 | karpogory\n",
      "City not found. Skipping...\n",
      "Processing Record 16 of Set 1 | pevek\n",
      "City not found. Skipping...\n",
      "Processing Record 17 of Set 1 | alofi\n",
      "City not found. Skipping...\n",
      "Processing Record 18 of Set 1 | coihaique\n",
      "City not found. Skipping...\n",
      "Processing Record 19 of Set 1 | punta arenas\n",
      "City not found. Skipping...\n",
      "Processing Record 20 of Set 1 | nacala\n",
      "City not found. Skipping...\n",
      "Processing Record 21 of Set 1 | east london\n",
      "City not found. Skipping...\n",
      "Processing Record 22 of Set 1 | hermanus\n",
      "City not found. Skipping...\n",
      "Processing Record 23 of Set 1 | puerto ayora\n",
      "City not found. Skipping...\n",
      "Processing Record 24 of Set 1 | tuktoyaktuk\n",
      "City not found. Skipping...\n",
      "Processing Record 25 of Set 1 | sao desiderio\n",
      "City not found. Skipping...\n",
      "Processing Record 26 of Set 1 | bluff\n",
      "City not found. Skipping...\n",
      "Processing Record 27 of Set 1 | grand river south east\n",
      "City not found. Skipping...\n",
      "Processing Record 28 of Set 1 | abbeville\n",
      "City not found. Skipping...\n",
      "Processing Record 29 of Set 1 | vila franca do campo\n",
      "City not found. Skipping...\n",
      "Processing Record 30 of Set 1 | klyuchi\n",
      "City not found. Skipping...\n",
      "Processing Record 31 of Set 1 | coquimbo\n",
      "City not found. Skipping...\n",
      "Processing Record 32 of Set 1 | new norfolk\n",
      "City not found. Skipping...\n",
      "Processing Record 33 of Set 1 | maxixe\n",
      "City not found. Skipping...\n",
      "Processing Record 34 of Set 1 | sao filipe\n",
      "City not found. Skipping...\n",
      "Processing Record 35 of Set 1 | hobart\n",
      "City not found. Skipping...\n",
      "Processing Record 36 of Set 1 | hilo\n",
      "City not found. Skipping...\n",
      "Processing Record 37 of Set 1 | albany\n",
      "City not found. Skipping...\n",
      "Processing Record 38 of Set 1 | arman\n",
      "City not found. Skipping...\n",
      "Processing Record 39 of Set 1 | souillac\n",
      "City not found. Skipping...\n",
      "Processing Record 40 of Set 1 | ancud\n",
      "City not found. Skipping...\n",
      "Processing Record 41 of Set 1 | hithadhoo\n",
      "City not found. Skipping...\n",
      "Processing Record 42 of Set 1 | xiaoshan\n",
      "City not found. Skipping...\n",
      "Processing Record 43 of Set 1 | egvekinot\n",
      "City not found. Skipping...\n",
      "Processing Record 44 of Set 1 | nemuro\n",
      "City not found. Skipping...\n",
      "Processing Record 45 of Set 1 | castro\n",
      "City not found. Skipping...\n",
      "Processing Record 46 of Set 1 | asau\n",
      "City not found. Skipping...\n",
      "Processing Record 47 of Set 1 | shetpe\n",
      "City not found. Skipping...\n",
      "Processing Record 48 of Set 1 | oga\n",
      "City not found. Skipping...\n",
      "Processing Record 49 of Set 1 | laguna\n",
      "City not found. Skipping...\n",
      "Processing Record 50 of Set 1 | kununurra\n",
      "City not found. Skipping...\n",
      "Processing Record 0 of Set 2 | fort nelson\n",
      "City not found. Skipping...\n",
      "Processing Record 1 of Set 2 | paita\n",
      "City not found. Skipping...\n",
      "Processing Record 2 of Set 2 | christchurch\n",
      "City not found. Skipping...\n",
      "Processing Record 3 of Set 2 | pozo colorado\n",
      "City not found. Skipping...\n",
      "Processing Record 4 of Set 2 | ushuaia\n",
      "City not found. Skipping...\n",
      "Processing Record 5 of Set 2 | aykhal\n",
      "City not found. Skipping...\n",
      "Processing Record 6 of Set 2 | eydhafushi\n",
      "City not found. Skipping...\n",
      "Processing Record 7 of Set 2 | esmeraldas\n",
      "City not found. Skipping...\n",
      "Processing Record 8 of Set 2 | mecca\n",
      "City not found. Skipping...\n",
      "Processing Record 9 of Set 2 | karratha\n",
      "City not found. Skipping...\n",
      "Processing Record 10 of Set 2 | kapaa\n",
      "City not found. Skipping...\n",
      "Processing Record 11 of Set 2 | muroto\n",
      "City not found. Skipping...\n",
      "Processing Record 12 of Set 2 | bredasdorp\n",
      "City not found. Skipping...\n",
      "Processing Record 13 of Set 2 | saleaula\n",
      "City not found. Skipping...\n",
      "Processing Record 14 of Set 2 | lamu\n",
      "City not found. Skipping...\n",
      "Processing Record 15 of Set 2 | axim\n",
      "City not found. Skipping...\n",
      "Processing Record 16 of Set 2 | crab hill\n",
      "City not found. Skipping...\n",
      "Processing Record 17 of Set 2 | lisbon\n",
      "City not found. Skipping...\n",
      "Processing Record 18 of Set 2 | dandong\n",
      "City not found. Skipping...\n",
      "Processing Record 19 of Set 2 | leningradskiy\n",
      "City not found. Skipping...\n",
      "Processing Record 20 of Set 2 | airai\n",
      "City not found. Skipping...\n",
      "Processing Record 21 of Set 2 | beringovskiy\n",
      "City not found. Skipping...\n",
      "Processing Record 22 of Set 2 | port alfred\n",
      "City not found. Skipping...\n",
      "Processing Record 23 of Set 2 | kahului\n",
      "City not found. Skipping...\n",
      "Processing Record 24 of Set 2 | bambous virieux\n",
      "City not found. Skipping...\n",
      "Processing Record 25 of Set 2 | cabanas\n",
      "City not found. Skipping...\n",
      "Processing Record 26 of Set 2 | marsaxlokk\n",
      "City not found. Skipping...\n",
      "Processing Record 27 of Set 2 | pangai\n",
      "City not found. Skipping...\n",
      "Processing Record 28 of Set 2 | aflu\n",
      "City not found. Skipping...\n",
      "Processing Record 29 of Set 2 | busselton\n",
      "City not found. Skipping...\n",
      "Processing Record 30 of Set 2 | mataura\n",
      "City not found. Skipping...\n",
      "Processing Record 31 of Set 2 | tura\n",
      "City not found. Skipping...\n",
      "Processing Record 32 of Set 2 | mar del plata\n",
      "City not found. Skipping...\n",
      "Processing Record 33 of Set 2 | sisimiut\n",
      "City not found. Skipping...\n",
      "Processing Record 34 of Set 2 | mys shmidta\n",
      "City not found. Skipping...\n",
      "Processing Record 35 of Set 2 | butaritari\n",
      "City not found. Skipping...\n",
      "Processing Record 36 of Set 2 | morondava\n",
      "City not found. Skipping...\n",
      "Processing Record 37 of Set 2 | barentsburg\n",
      "City not found. Skipping...\n",
      "Processing Record 38 of Set 2 | ponta do sol\n",
      "City not found. Skipping...\n",
      "Processing Record 39 of Set 2 | barrow\n",
      "City not found. Skipping...\n",
      "Processing Record 40 of Set 2 | sitka\n",
      "City not found. Skipping...\n",
      "Processing Record 41 of Set 2 | mana\n",
      "City not found. Skipping...\n",
      "Processing Record 42 of Set 2 | clyde river\n",
      "City not found. Skipping...\n",
      "Processing Record 43 of Set 2 | decatur\n",
      "City not found. Skipping...\n",
      "Processing Record 44 of Set 2 | sainte-anne-des-monts\n",
      "City not found. Skipping...\n",
      "Processing Record 45 of Set 2 | hare bay\n",
      "City not found. Skipping...\n",
      "Processing Record 46 of Set 2 | jumilla\n",
      "City not found. Skipping...\n",
      "Processing Record 47 of Set 2 | avarua\n",
      "City not found. Skipping...\n",
      "Processing Record 48 of Set 2 | havelock\n",
      "City not found. Skipping...\n",
      "Processing Record 49 of Set 2 | atuona\n",
      "City not found. Skipping...\n",
      "Processing Record 0 of Set 3 | antofagasta\n",
      "City not found. Skipping...\n",
      "Processing Record 1 of Set 3 | tiksi\n",
      "City not found. Skipping...\n",
      "Processing Record 2 of Set 3 | kapoeta\n",
      "City not found. Skipping...\n",
      "Processing Record 3 of Set 3 | blois\n",
      "City not found. Skipping...\n",
      "Processing Record 4 of Set 3 | kiknur\n",
      "City not found. Skipping...\n",
      "Processing Record 5 of Set 3 | sur\n",
      "City not found. Skipping...\n",
      "Processing Record 6 of Set 3 | nago\n",
      "City not found. Skipping...\n",
      "Processing Record 7 of Set 3 | jamestown\n",
      "City not found. Skipping...\n",
      "Processing Record 8 of Set 3 | henties bay\n",
      "City not found. Skipping...\n",
      "Processing Record 9 of Set 3 | amderma\n",
      "City not found. Skipping...\n",
      "Processing Record 10 of Set 3 | vysokopillya\n",
      "City not found. Skipping...\n",
      "Processing Record 11 of Set 3 | pisco\n",
      "City not found. Skipping...\n",
      "Processing Record 12 of Set 3 | sibu\n"
     ]
    }
   ],
   "source": [
    "# Set the API base Url\n",
    "units = \"Imperial\"\n",
    "\n",
    "url = f\"https://api.openweathermap.org/data/2.5/weather?APPID={weather_api_keys}&units={units}\"\n",
    "\n",
    "# Define an empty list to fetch the weather data for each city\n",
    "city_data = []\n",
    "\n",
    "# Print to logger\n",
    "print(\"Beginning Data Retrieval     \")\n",
    "print(\"-----------------------------\")\n",
    "\n",
    "# Create counters\n",
    "record_count = 1\n",
    "set_count = 1\n",
    "\n",
    "# Loop through all the cities in our list to fetch weather data\n",
    "for i, city in enumerate(cities):\n",
    "          \n",
    "    # Group cities in sets of 50 for logging purposes\n",
    "    if (i % 50 == 0 and i >= 50):\n",
    "        set_count += 1\n",
    "        record_count = 0\n",
    "\n",
    "    # Create endpoint URL with each city\n",
    "    # city_url = f\"https://api.openweathermap.org/data/2.5/weather?q={country code}&appid={weather_api_keys}\"\n",
    "    city_url= f\"{url}&q=\" + city.replace(\" \", \"+\")\n",
    "    # Log the url, record, and set numbers\n",
    "    print(\"Processing Record %s of Set %s | %s\" % (record_count, set_count, city))\n",
    "\n",
    "    # Add 1 to the record count\n",
    "    record_count += 1\n",
    "\n",
    "    # Run an API request for each of the cities\n",
    "    try:\n",
    "        # Parse the JSON and retrieve data\n",
    "        cities_data = requests.get(city_url).json()\n",
    "        city_weather = response.json()\n",
    "    # if city_weather[\"cod\"]==200:\n",
    "        city_name = (city_weather[\"name\"])\n",
    "        # Parse out latitude, longitude, max temp, humidity, cloudiness, wind speed, country, and date\n",
    "        city_lat = (city_weather[\"coord\"][\"lat\"])\n",
    "        city_lng = (city_weather[\"coord\"][\"lon\"])\n",
    "        city_max_temp = int(city_weather[\"main\"][\"temp_max\"])\n",
    "        city_humidity = (city_weather[\"main\"][\"humidity\"])\n",
    "        city_clouds = (city_weather[\"cloudiness\"][\"all\"])\n",
    "        city_wind = (city_weather[\"wind\"][\"speed\"])\n",
    "        city_country = (city_weather[\"sys\"][\"Country\"])\n",
    "        city_date = (city_weather[\"dt\"])\n",
    "\n",
    "        # Append the City information into city_data list\n",
    "        city_data.append({\"City\": city, \n",
    "                          \"Lat\": city_lat, \n",
    "                          \"Lng\": city_lng, \n",
    "                          \"Max Temp\": city_max_temp,\n",
    "                          \"Humidity\": city_humidity,\n",
    "                          \"Cloudiness\": city_clouds,\n",
    "                          \"Wind Speed\": city_wind,\n",
    "                          \"Country\": city_country,\n",
    "                          \"Date\": city_date})\n",
    "\n",
    "    # If an error is experienced, skip the city\n",
    "    except:\n",
    "        print(\"City not found. Skipping...\")\n",
    "        pass\n",
    "              \n",
    "# Indicate that Data Loading is complete \n",
    "print(\"-----------------------------\")\n",
    "print(\"Data Retrieval Complete      \")\n",
    "print(\"-----------------------------\")"
   ]
  },
  {
   "cell_type": "code",
   "execution_count": 20,
   "metadata": {},
   "outputs": [
    {
     "ename": "SyntaxError",
     "evalue": "invalid syntax (3579142786.py, line 2)",
     "output_type": "error",
     "traceback": [
      "\u001b[1;36m  File \u001b[1;32m\"C:\\Users\\juhis\\AppData\\Local\\Temp\\ipykernel_19868\\3579142786.py\"\u001b[1;36m, line \u001b[1;32m2\u001b[0m\n\u001b[1;33m    city_data_df = # YOUR CODE HERE\u001b[0m\n\u001b[1;37m                   ^\u001b[0m\n\u001b[1;31mSyntaxError\u001b[0m\u001b[1;31m:\u001b[0m invalid syntax\n"
     ]
    }
   ],
   "source": [
    "# Convert the cities weather data into a Pandas DataFrame\n",
    "city_data_df = # YOUR CODE HERE\n",
    "\n",
    "# Show Record Count\n",
    "city_data_df.count()"
   ]
  },
  {
   "cell_type": "code",
   "execution_count": null,
   "metadata": {},
   "outputs": [],
   "source": [
    "# Display sample data\n",
    "city_data_df.head()"
   ]
  },
  {
   "cell_type": "code",
   "execution_count": null,
   "metadata": {},
   "outputs": [],
   "source": [
    "# Export the City_Data into a csv\n",
    "city_data_df.to_csv(\"output_data/cities.csv\", index_label=\"City_ID\")"
   ]
  },
  {
   "cell_type": "code",
   "execution_count": null,
   "metadata": {},
   "outputs": [],
   "source": [
    "# Read saved data\n",
    "city_data_df = pd.read_csv(\"output_data/cities.csv\", index_col=\"City_ID\")\n",
    "\n",
    "# Display sample data\n",
    "city_data_df.head()"
   ]
  },
  {
   "cell_type": "markdown",
   "metadata": {},
   "source": [
    "### Create the Scatter Plots Requested\n",
    "\n",
    "#### Latitude Vs. Temperature"
   ]
  },
  {
   "cell_type": "code",
   "execution_count": null,
   "metadata": {
    "tags": []
   },
   "outputs": [],
   "source": [
    "# Build scatter plot for latitude vs. temperature\n",
    "# YOUR CODE HERE\n",
    "\n",
    "# Incorporate the other graph properties\n",
    "# YOUR CODE HERE\n",
    "\n",
    "# Save the figure\n",
    "plt.savefig(\"output_data/Fig1.png\")\n",
    "\n",
    "# Show plot\n",
    "plt.show()"
   ]
  },
  {
   "cell_type": "markdown",
   "metadata": {},
   "source": [
    "#### Latitude Vs. Humidity"
   ]
  },
  {
   "cell_type": "code",
   "execution_count": null,
   "metadata": {},
   "outputs": [],
   "source": [
    "# Build the scatter plots for latitude vs. humidity\n",
    "# YOUR CODE HERE\n",
    "\n",
    "# Incorporate the other graph properties\n",
    "# YOUR CODE HERE\n",
    "\n",
    "# Save the figure\n",
    "plt.savefig(\"output_data/Fig2.png\")\n",
    "\n",
    "# Show plot\n",
    "plt.show()"
   ]
  },
  {
   "cell_type": "markdown",
   "metadata": {},
   "source": [
    "#### Latitude Vs. Cloudiness"
   ]
  },
  {
   "cell_type": "code",
   "execution_count": null,
   "metadata": {},
   "outputs": [],
   "source": [
    "# Build the scatter plots for latitude vs. cloudiness\n",
    "# YOUR CODE HERE\n",
    "\n",
    "# Incorporate the other graph properties\n",
    "# YOUR CODE HERE\n",
    "\n",
    "# Save the figure\n",
    "plt.savefig(\"output_data/Fig3.png\")\n",
    "\n",
    "# Show plot\n",
    "plt.show()"
   ]
  },
  {
   "cell_type": "markdown",
   "metadata": {},
   "source": [
    "#### Latitude vs. Wind Speed Plot"
   ]
  },
  {
   "cell_type": "code",
   "execution_count": null,
   "metadata": {},
   "outputs": [],
   "source": [
    "# Build the scatter plots for latitude vs. wind speed\n",
    "# YOUR CODE HERE\n",
    "\n",
    "# Incorporate the other graph properties\n",
    "# YOUR CODE HERE\n",
    "\n",
    "# Save the figure\n",
    "plt.savefig(\"output_data/Fig4.png\")\n",
    "\n",
    "# Show plot\n",
    "plt.show()"
   ]
  },
  {
   "cell_type": "markdown",
   "metadata": {},
   "source": [
    "---\n",
    "\n",
    "## Requirement 2: Compute Linear Regression for Each Relationship\n"
   ]
  },
  {
   "cell_type": "code",
   "execution_count": null,
   "metadata": {},
   "outputs": [],
   "source": [
    "# Define a function to create Linear Regression plots\n",
    "# YOUR CODE HERE"
   ]
  },
  {
   "cell_type": "code",
   "execution_count": null,
   "metadata": {},
   "outputs": [],
   "source": [
    "# Create a DataFrame with the Northern Hemisphere data (Latitude >= 0)\n",
    "# YOUR CODE HERE\n",
    "\n",
    "# Display sample data\n",
    "northern_hemi_df.head()"
   ]
  },
  {
   "cell_type": "code",
   "execution_count": null,
   "metadata": {},
   "outputs": [],
   "source": [
    "# Create a DataFrame with the Southern Hemisphere data (Latitude < 0)\n",
    "# YOUR CODE HERE\n",
    "\n",
    "# Display sample data\n",
    "southern_hemi_df.head()"
   ]
  },
  {
   "cell_type": "markdown",
   "metadata": {},
   "source": [
    "###  Temperature vs. Latitude Linear Regression Plot"
   ]
  },
  {
   "cell_type": "code",
   "execution_count": null,
   "metadata": {},
   "outputs": [],
   "source": [
    "# Linear regression on Northern Hemisphere\n",
    "# YOUR CODE HERE"
   ]
  },
  {
   "cell_type": "code",
   "execution_count": null,
   "metadata": {},
   "outputs": [],
   "source": [
    "# Linear regression on Southern Hemisphere\n",
    "# YOUR CODE HERE"
   ]
  },
  {
   "cell_type": "markdown",
   "metadata": {},
   "source": [
    "**Discussion about the linear relationship:** YOUR RESPONSE HERE"
   ]
  },
  {
   "cell_type": "markdown",
   "metadata": {},
   "source": [
    "### Humidity vs. Latitude Linear Regression Plot"
   ]
  },
  {
   "cell_type": "code",
   "execution_count": null,
   "metadata": {},
   "outputs": [],
   "source": [
    "# Northern Hemisphere\n",
    "# YOUR CODE HERE"
   ]
  },
  {
   "cell_type": "code",
   "execution_count": null,
   "metadata": {},
   "outputs": [],
   "source": [
    "# Southern Hemisphere\n",
    "# YOUR CODE HERE"
   ]
  },
  {
   "cell_type": "markdown",
   "metadata": {},
   "source": [
    "**Discussion about the linear relationship:** YOUR RESPONSE HERE"
   ]
  },
  {
   "cell_type": "markdown",
   "metadata": {},
   "source": [
    "### Cloudiness vs. Latitude Linear Regression Plot"
   ]
  },
  {
   "cell_type": "code",
   "execution_count": null,
   "metadata": {},
   "outputs": [],
   "source": [
    "# Northern Hemisphere\n",
    "# YOUR CODE HERE"
   ]
  },
  {
   "cell_type": "code",
   "execution_count": null,
   "metadata": {},
   "outputs": [],
   "source": [
    "# Southern Hemisphere\n",
    "# YOUR CODE HERE"
   ]
  },
  {
   "cell_type": "markdown",
   "metadata": {},
   "source": [
    "**Discussion about the linear relationship:** YOUR RESPONSE HERE"
   ]
  },
  {
   "cell_type": "markdown",
   "metadata": {},
   "source": [
    "### Wind Speed vs. Latitude Linear Regression Plot"
   ]
  },
  {
   "cell_type": "code",
   "execution_count": null,
   "metadata": {},
   "outputs": [],
   "source": [
    "# Northern Hemisphere\n",
    "# YOUR CODE HERE"
   ]
  },
  {
   "cell_type": "code",
   "execution_count": null,
   "metadata": {},
   "outputs": [],
   "source": [
    "# Southern Hemisphere\n",
    "# YOUR CODE HERE"
   ]
  },
  {
   "cell_type": "markdown",
   "metadata": {},
   "source": [
    "**Discussion about the linear relationship:** YOUR RESPONSE HERE"
   ]
  },
  {
   "cell_type": "code",
   "execution_count": null,
   "metadata": {},
   "outputs": [],
   "source": []
  }
 ],
 "metadata": {
  "anaconda-cloud": {},
  "kernel_info": {
   "name": "python3"
  },
  "kernelspec": {
   "display_name": "base",
   "language": "python",
   "name": "python3"
  },
  "language_info": {
   "codemirror_mode": {
    "name": "ipython",
    "version": 3
   },
   "file_extension": ".py",
   "mimetype": "text/x-python",
   "name": "python",
   "nbconvert_exporter": "python",
   "pygments_lexer": "ipython3",
   "version": "3.9.13"
  },
  "latex_envs": {
   "LaTeX_envs_menu_present": true,
   "autoclose": false,
   "autocomplete": true,
   "bibliofile": "biblio.bib",
   "cite_by": "apalike",
   "current_citInitial": 1,
   "eqLabelWithNumbers": true,
   "eqNumInitial": 1,
   "hotkeys": {
    "equation": "Ctrl-E",
    "itemize": "Ctrl-I"
   },
   "labels_anchors": false,
   "latex_user_defs": false,
   "report_style_numbering": false,
   "user_envs_cfg": false
  },
  "nteract": {
   "version": "0.12.3"
  },
  "vscode": {
   "interpreter": {
    "hash": "5a1a39edc583d97b4d888ab7a41fc3ad46d19ede7e4130373606867799ce11e0"
   }
  }
 },
 "nbformat": 4,
 "nbformat_minor": 4
}
